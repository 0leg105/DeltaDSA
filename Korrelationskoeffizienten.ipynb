{
 "cells": [
  {
   "cell_type": "markdown",
   "id": "7392079d-38a6-4ff6-b589-c67bc635b8b0",
   "metadata": {},
   "source": [
    "# Korrelationskoeffizienten"
   ]
  },
  {
   "cell_type": "code",
   "execution_count": 1,
   "id": "1103af4d-6e52-44ed-ad5c-15f2d626144f",
   "metadata": {},
   "outputs": [],
   "source": [
    "import pandas as pd\n",
    "import matplotlib.pyplot as plt\n",
    "import numpy as np\n",
    "from sklearn.decomposition import PCA\n",
    "from sklearn.preprocessing import StandardScaler\n",
    "from sklearn.cluster import KMeans\n",
    "import seaborn as sns"
   ]
  },
  {
   "cell_type": "code",
   "execution_count": 2,
   "id": "d7b7f5ad-95d0-4a84-83cc-04c434b96565",
   "metadata": {},
   "outputs": [
    {
     "data": {
      "text/html": [
       "<div>\n",
       "<style scoped>\n",
       "    .dataframe tbody tr th:only-of-type {\n",
       "        vertical-align: middle;\n",
       "    }\n",
       "\n",
       "    .dataframe tbody tr th {\n",
       "        vertical-align: top;\n",
       "    }\n",
       "\n",
       "    .dataframe thead th {\n",
       "        text-align: right;\n",
       "    }\n",
       "</style>\n",
       "<table border=\"1\" class=\"dataframe\">\n",
       "  <thead>\n",
       "    <tr style=\"text-align: right;\">\n",
       "      <th></th>\n",
       "      <th>Age</th>\n",
       "      <th>Sex</th>\n",
       "      <th>ChestPainType</th>\n",
       "      <th>RestingBP</th>\n",
       "      <th>Cholesterol</th>\n",
       "      <th>FastingBS</th>\n",
       "      <th>RestingECG</th>\n",
       "      <th>MaxHR</th>\n",
       "      <th>ExerciseAngina</th>\n",
       "      <th>Oldpeak</th>\n",
       "      <th>ST_Slope</th>\n",
       "      <th>HeartDisease</th>\n",
       "    </tr>\n",
       "  </thead>\n",
       "  <tbody>\n",
       "    <tr>\n",
       "      <th>0</th>\n",
       "      <td>40</td>\n",
       "      <td>M</td>\n",
       "      <td>ATA</td>\n",
       "      <td>140</td>\n",
       "      <td>289</td>\n",
       "      <td>0</td>\n",
       "      <td>Normal</td>\n",
       "      <td>172</td>\n",
       "      <td>N</td>\n",
       "      <td>0.0</td>\n",
       "      <td>Up</td>\n",
       "      <td>0</td>\n",
       "    </tr>\n",
       "    <tr>\n",
       "      <th>1</th>\n",
       "      <td>49</td>\n",
       "      <td>F</td>\n",
       "      <td>NAP</td>\n",
       "      <td>160</td>\n",
       "      <td>180</td>\n",
       "      <td>0</td>\n",
       "      <td>Normal</td>\n",
       "      <td>156</td>\n",
       "      <td>N</td>\n",
       "      <td>1.0</td>\n",
       "      <td>Flat</td>\n",
       "      <td>1</td>\n",
       "    </tr>\n",
       "    <tr>\n",
       "      <th>2</th>\n",
       "      <td>37</td>\n",
       "      <td>M</td>\n",
       "      <td>ATA</td>\n",
       "      <td>130</td>\n",
       "      <td>283</td>\n",
       "      <td>0</td>\n",
       "      <td>ST</td>\n",
       "      <td>98</td>\n",
       "      <td>N</td>\n",
       "      <td>0.0</td>\n",
       "      <td>Up</td>\n",
       "      <td>0</td>\n",
       "    </tr>\n",
       "    <tr>\n",
       "      <th>3</th>\n",
       "      <td>48</td>\n",
       "      <td>F</td>\n",
       "      <td>ASY</td>\n",
       "      <td>138</td>\n",
       "      <td>214</td>\n",
       "      <td>0</td>\n",
       "      <td>Normal</td>\n",
       "      <td>108</td>\n",
       "      <td>Y</td>\n",
       "      <td>1.5</td>\n",
       "      <td>Flat</td>\n",
       "      <td>1</td>\n",
       "    </tr>\n",
       "    <tr>\n",
       "      <th>4</th>\n",
       "      <td>54</td>\n",
       "      <td>M</td>\n",
       "      <td>NAP</td>\n",
       "      <td>150</td>\n",
       "      <td>195</td>\n",
       "      <td>0</td>\n",
       "      <td>Normal</td>\n",
       "      <td>122</td>\n",
       "      <td>N</td>\n",
       "      <td>0.0</td>\n",
       "      <td>Up</td>\n",
       "      <td>0</td>\n",
       "    </tr>\n",
       "  </tbody>\n",
       "</table>\n",
       "</div>"
      ],
      "text/plain": [
       "   Age Sex ChestPainType  RestingBP  Cholesterol  FastingBS RestingECG  MaxHR  \\\n",
       "0   40   M           ATA        140          289          0     Normal    172   \n",
       "1   49   F           NAP        160          180          0     Normal    156   \n",
       "2   37   M           ATA        130          283          0         ST     98   \n",
       "3   48   F           ASY        138          214          0     Normal    108   \n",
       "4   54   M           NAP        150          195          0     Normal    122   \n",
       "\n",
       "  ExerciseAngina  Oldpeak ST_Slope  HeartDisease  \n",
       "0              N      0.0       Up             0  \n",
       "1              N      1.0     Flat             1  \n",
       "2              N      0.0       Up             0  \n",
       "3              Y      1.5     Flat             1  \n",
       "4              N      0.0       Up             0  "
      ]
     },
     "execution_count": 2,
     "metadata": {},
     "output_type": "execute_result"
    }
   ],
   "source": [
    "heartData = pd.read_csv(\"heart-failure-prediction/heart.csv\")\n",
    "heartData.head()"
   ]
  },
  {
   "cell_type": "code",
   "execution_count": 3,
   "id": "d1e480c4-8a69-404a-9c35-2d279496700a",
   "metadata": {},
   "outputs": [],
   "source": [
    "# Entfernen unangegebener Cholersterin Beobachtungen und Frauen\n",
    "heartData = heartData[(heartData[\"Sex\"] != \"F\") & (heartData[\"Cholesterol\"] != 0)]"
   ]
  },
  {
   "cell_type": "code",
   "execution_count": 4,
   "id": "d6ec4c6c-3a2f-4736-8c2b-782a14b15331",
   "metadata": {},
   "outputs": [
    {
     "data": {
      "text/html": [
       "<div>\n",
       "<style scoped>\n",
       "    .dataframe tbody tr th:only-of-type {\n",
       "        vertical-align: middle;\n",
       "    }\n",
       "\n",
       "    .dataframe tbody tr th {\n",
       "        vertical-align: top;\n",
       "    }\n",
       "\n",
       "    .dataframe thead th {\n",
       "        text-align: right;\n",
       "    }\n",
       "</style>\n",
       "<table border=\"1\" class=\"dataframe\">\n",
       "  <thead>\n",
       "    <tr style=\"text-align: right;\">\n",
       "      <th></th>\n",
       "      <th>Age</th>\n",
       "      <th>Sex</th>\n",
       "      <th>ChestPainType</th>\n",
       "      <th>RestingBP</th>\n",
       "      <th>Cholesterol</th>\n",
       "      <th>FastingBS</th>\n",
       "      <th>RestingECG</th>\n",
       "      <th>MaxHR</th>\n",
       "      <th>ExerciseAngina</th>\n",
       "      <th>Oldpeak</th>\n",
       "      <th>ST_Slope</th>\n",
       "      <th>HeartDisease</th>\n",
       "    </tr>\n",
       "  </thead>\n",
       "  <tbody>\n",
       "    <tr>\n",
       "      <th>0</th>\n",
       "      <td>40</td>\n",
       "      <td>0</td>\n",
       "      <td>1</td>\n",
       "      <td>140</td>\n",
       "      <td>289</td>\n",
       "      <td>0</td>\n",
       "      <td>0</td>\n",
       "      <td>172</td>\n",
       "      <td>0</td>\n",
       "      <td>0.0</td>\n",
       "      <td>1</td>\n",
       "      <td>0</td>\n",
       "    </tr>\n",
       "    <tr>\n",
       "      <th>2</th>\n",
       "      <td>37</td>\n",
       "      <td>0</td>\n",
       "      <td>1</td>\n",
       "      <td>130</td>\n",
       "      <td>283</td>\n",
       "      <td>0</td>\n",
       "      <td>1</td>\n",
       "      <td>98</td>\n",
       "      <td>0</td>\n",
       "      <td>0.0</td>\n",
       "      <td>1</td>\n",
       "      <td>0</td>\n",
       "    </tr>\n",
       "    <tr>\n",
       "      <th>4</th>\n",
       "      <td>54</td>\n",
       "      <td>0</td>\n",
       "      <td>2</td>\n",
       "      <td>150</td>\n",
       "      <td>195</td>\n",
       "      <td>0</td>\n",
       "      <td>0</td>\n",
       "      <td>122</td>\n",
       "      <td>0</td>\n",
       "      <td>0.0</td>\n",
       "      <td>1</td>\n",
       "      <td>0</td>\n",
       "    </tr>\n",
       "    <tr>\n",
       "      <th>5</th>\n",
       "      <td>39</td>\n",
       "      <td>0</td>\n",
       "      <td>2</td>\n",
       "      <td>120</td>\n",
       "      <td>339</td>\n",
       "      <td>0</td>\n",
       "      <td>0</td>\n",
       "      <td>170</td>\n",
       "      <td>0</td>\n",
       "      <td>0.0</td>\n",
       "      <td>1</td>\n",
       "      <td>0</td>\n",
       "    </tr>\n",
       "    <tr>\n",
       "      <th>7</th>\n",
       "      <td>54</td>\n",
       "      <td>0</td>\n",
       "      <td>1</td>\n",
       "      <td>110</td>\n",
       "      <td>208</td>\n",
       "      <td>0</td>\n",
       "      <td>0</td>\n",
       "      <td>142</td>\n",
       "      <td>0</td>\n",
       "      <td>0.0</td>\n",
       "      <td>1</td>\n",
       "      <td>0</td>\n",
       "    </tr>\n",
       "  </tbody>\n",
       "</table>\n",
       "</div>"
      ],
      "text/plain": [
       "   Age  Sex  ChestPainType  RestingBP  Cholesterol  FastingBS  RestingECG  \\\n",
       "0   40    0              1        140          289          0           0   \n",
       "2   37    0              1        130          283          0           1   \n",
       "4   54    0              2        150          195          0           0   \n",
       "5   39    0              2        120          339          0           0   \n",
       "7   54    0              1        110          208          0           0   \n",
       "\n",
       "   MaxHR  ExerciseAngina  Oldpeak  ST_Slope  HeartDisease  \n",
       "0    172               0      0.0         1             0  \n",
       "2     98               0      0.0         1             0  \n",
       "4    122               0      0.0         1             0  \n",
       "5    170               0      0.0         1             0  \n",
       "7    142               0      0.0         1             0  "
      ]
     },
     "execution_count": 4,
     "metadata": {},
     "output_type": "execute_result"
    }
   ],
   "source": [
    "# Umwandlung der Spalte \"Sex\" in nummerischen Wert\n",
    "heartData[\"Sex\"] = heartData[\"Sex\"].apply(lambda x: 0 if x == \"M\" else 1)\n",
    "\n",
    "# Umwandlung der Spalte \"ST_Slope\" in nummerischen Wert\n",
    "heartData[\"ST_Slope\"] = heartData[\"ST_Slope\"].map({\"Flat\": 0, \"Up\": 1, \"Down\": 2})\n",
    "\n",
    "# Umwandlung der Spalte \"ChestPainType\" in nummerischen Wert\n",
    "heartData[\"ChestPainType\"] = heartData[\"ChestPainType\"].apply(lambda x: 0 if x == \"TA\" else (1 if x == \"ATA\" else (2 if x == \"NAP\" else 3)))\n",
    "\n",
    "# Umwandlung der Spalte \"RestingECG\" in nummerischen Wert\n",
    "heartData[\"RestingECG\"] = heartData[\"RestingECG\"].apply(lambda x: 0 if x == \"Normal\" else (1 if x == \"ST\" else 2))\n",
    "\n",
    "# Umwandlung der Spalte \"ExerciseAngina\" in nummerischen Wert\n",
    "heartData[\"ExerciseAngina\"] = heartData[\"ExerciseAngina\"].apply(lambda x: 0 if x == \"N\" else 1)\n",
    "\n",
    "heartData.head()"
   ]
  },
  {
   "cell_type": "code",
   "execution_count": 5,
   "id": "ca522401-daf4-411a-8e06-7aef64705081",
   "metadata": {},
   "outputs": [],
   "source": [
    "numericFeatures = [\"Age\",\"RestingBP\",\"Cholesterol\",\"MaxHR\",\"Oldpeak\",\"ST_Slope\"]\n",
    "numericHeartData = heartData.loc[:,numericFeatures].copy()"
   ]
  },
  {
   "cell_type": "code",
   "execution_count": 6,
   "id": "a0aec866-7caf-474f-a401-516e8b705d78",
   "metadata": {},
   "outputs": [
    {
     "data": {
      "text/plain": [
       "Text(0.5, 1.0, 'Korrelationskoeffizienten')"
      ]
     },
     "execution_count": 6,
     "metadata": {},
     "output_type": "execute_result"
    },
    {
     "data": {
      "image/png": "[encoded data removed]",
      "text/plain": [
       "<Figure size 1200x1000 with 2 Axes>"
      ]
     },
     "metadata": {},
     "output_type": "display_data"
    }
   ],
   "source": [
    "correlations = numericHeartData.corr()\n",
    "plt.figure(figsize=(12,10))\n",
    "sns.heatmap(correlations, annot=True, vmin=-1.0, cmap=\"mako\")\n",
    "\n",
    "plt.savefig(\"Korrelationskoeffizienten.png\")\n",
    "plt.title(\"Korrelationskoeffizienten\")"
   ]
  },
  {
   "cell_type": "markdown",
   "id": "039b870f-7541-4da7-9ac4-6e43d0fa9379",
   "metadata": {},
   "source": [
    "# Lineare abhängigkeiten\n",
    "Die größte negative Abhängigkeit besitzt Age-MaxHR, mit dem Wert -0.38 < 1. Es reicht jedoch nicht aus diese Werte zu vereinen."
   ]
  },
  {
   "cell_type": "code",
   "execution_count": 7,
   "id": "33e4435b-a723-485c-92cd-48ded5533be1",
   "metadata": {},
   "outputs": [
    {
     "name": "stdout",
     "output_type": "stream",
     "text": [
      "                  Age  RestingBP  Cholesterol     MaxHR   Oldpeak  ST_Slope\n",
      "Age          1.000000   0.246486    -0.025410 -0.410259  0.286401 -0.099833\n",
      "RestingBP    0.246486   1.000000     0.067036 -0.144201  0.166177 -0.026548\n",
      "Cholesterol -0.025410   0.067036     1.000000 -0.015192  0.056633 -0.090423\n",
      "MaxHR       -0.410259  -0.144201    -0.015192  1.000000 -0.262235  0.260360\n",
      "Oldpeak      0.286401   0.166177     0.056633 -0.262235  1.000000 -0.145971\n",
      "ST_Slope    -0.099833  -0.026548    -0.090423  0.260360 -0.145971  1.000000\n"
     ]
    }
   ],
   "source": [
    "print(correlations)"
   ]
  },
  {
   "cell_type": "code",
   "execution_count": null,
   "id": "696accb2-5b30-4a2e-a3df-6f1e913569e7",
   "metadata": {},
   "outputs": [],
   "source": []
  }
 ],
 "metadata": {
  "kernelspec": {
   "display_name": "Python 3 (ipykernel)",
   "language": "python",
   "name": "python3"
  },
  "language_info": {
   "codemirror_mode": {
    "name": "ipython",
    "version": 3
   },
   "file_extension": ".py",
   "mimetype": "text/x-python",
   "name": "python",
   "nbconvert_exporter": "python",
   "pygments_lexer": "ipython3",
   "version": "3.10.12"
  }
 },
 "nbformat": 4,
 "nbformat_minor": 5
}
