{
 "cells": [
  {
   "cell_type": "markdown",
   "id": "460c14f8-7fe0-41c4-a1d1-979edce6d7b7",
   "metadata": {},
   "source": [
    "# Quellen"
   ]
  },
  {
   "cell_type": "markdown",
   "id": "eb3c93a7-9af0-44ff-8c8f-2e091f99a756",
   "metadata": {},
   "source": [
    "## Welche Herz-Kreislauf-Erkrankungen gibt es?\r\n",
    "\n",
    "Zu den häufigsten Herz-Kreislauf-Erkrankungen gehören Bluthochdruck, Herzinsuffizienz, Koronare Herzerkrankungen, Herzrhythmusstörungen und der Herzinfarkt\n",
    "\n",
    "https://pflegebox.de/ratgeber/krankheiten/herz-kreislauf-erkrankungen/#:~:text=Zu%20den%20h%C3%A4ufigsten%20Herz%2DKreislauf,Herzerkrankungen%2C%20Herzrhythmusst%C3%B6rungen%20und%20der%20Herzinfarkt.."
   ]
  },
  {
   "cell_type": "markdown",
   "id": "c0315f5f-415d-4f5e-b693-b0778d084bc8",
   "metadata": {},
   "source": [
    "## Optimaler Cholesterin Spiegel\n",
    "\n",
    "While there is no ideal target blood level for LDL-C, the 2018 guideline recognizes, in principle, that “lower is better.” Studies suggest that an optimal total cholesterol level is about 150 mg/dL, with LDL-C at or below 100 mg/dL, and adults with LDL-C in this level have lower rates of heart disease and stroke.\n",
    "\n",
    "https://www.heart.org/en/health-topics/cholesterol/about-cholesterol/what-your-cholesterol-levels-mean#:~:text=Studies%20suggest%20that%20an%20optimal,LDL%20below%20100%20mg%2FdL."
   ]
  }
 ],
 "metadata": {
  "kernelspec": {
   "display_name": "Python 3 (ipykernel)",
   "language": "python",
   "name": "python3"
  },
  "language_info": {
   "codemirror_mode": {
    "name": "ipython",
    "version": 3
   },
   "file_extension": ".py",
   "mimetype": "text/x-python",
   "name": "python",
   "nbconvert_exporter": "python",
   "pygments_lexer": "ipython3",
   "version": "3.11.3"
  }
 },
 "nbformat": 4,
 "nbformat_minor": 5
}
