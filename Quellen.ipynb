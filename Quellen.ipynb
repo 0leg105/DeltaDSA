{
 "cells": [
  {
   "cell_type": "markdown",
   "id": "460c14f8-7fe0-41c4-a1d1-979edce6d7b7",
   "metadata": {},
   "source": [
    "# Quellen"
   ]
  },
  {
   "cell_type": "markdown",
   "id": "5b0ed5d6-9c14-4e9c-8a09-ccdce73523c8",
   "metadata": {},
   "source": [
    "Zuerst wird der Datensatz auf mögliche Unstimmigkeiten geprüft. Anschließend erfolgt eine Exploration und Visualisierung der Daten im Dataset, um Muster und Trends zu identifizieren.\n",
    "Nach der Bereinugngen der Umstimmigkeiten im Datensatz, werden kategorische Attribute nummerisch umgewandelt, bzw. für eine multivariate Analyse angepasst.\n",
    "Nach der "
   ]
  },
  {
   "cell_type": "markdown",
   "id": "66ad6dd5-af70-4436-9af9-d385acae76bc",
   "metadata": {},
   "source": [
    "Das Ziel des Projekts ist es eine Visualisierung aus einem Datensatz im Zusammenhang mit Herz-Kreislauf-Erkrankungen zu bilden und bestimmte Cluster, anhand PCA oder einen anderen Klassifzierer, zu erkennen.\n",
    "Das Projekt soll kein spezifisches medizinisches Problem lösen, sondern versuchen Zusammenhänge die für eine Herzkreislauferkrankung relevant sind zu visualisieren."
   ]
  },
  {
   "cell_type": "markdown",
   "id": "eb3c93a7-9af0-44ff-8c8f-2e091f99a756",
   "metadata": {},
   "source": [
    "## Welche Herz-Kreislauf-Erkrankungen gibt es?\r\n",
    "\n",
    "Zu den häufigsten Herz-Kreislauf-Erkrankungen gehören Bluthochdruck, Herzinsuffizienz, Koronare Herzerkrankungen, Herzrhythmusstörungen und der Herzinfarkt\n",
    "\n",
    "https://pflegebox.de/ratgeber/krankheiten/herz-kreislauf-erkrankungen/#:~:text=Zu%20den%20h%C3%A4ufigsten%20Herz%2DKreislauf,Herzerkrankungen%2C%20Herzrhythmusst%C3%B6rungen%20und%20der%20Herzinfarkt.."
   ]
  },
  {
   "cell_type": "markdown",
   "id": "c0315f5f-415d-4f5e-b693-b0778d084bc8",
   "metadata": {},
   "source": [
    "## Optimaler Cholesterin Spiegel\n",
    "\n",
    "While there is no ideal target blood level for LDL-C, the 2018 guideline recognizes, in principle, that “lower is better.” Studies suggest that an optimal total cholesterol level is about 150 mg/dL, with LDL-C at or below 100 mg/dL, and adults with LDL-C in this level have lower rates of heart disease and stroke.\n",
    "\n",
    "https://www.heart.org/en/health-topics/cholesterol/about-cholesterol/what-your-cholesterol-levels-mean#:~:text=Studies%20suggest%20that%20an%20optimal,LDL%20below%20100%20mg%2FdL."
   ]
  }
 ],
 "metadata": {
  "kernelspec": {
   "display_name": "Python 3 (ipykernel)",
   "language": "python",
   "name": "python3"
  },
  "language_info": {
   "codemirror_mode": {
    "name": "ipython",
    "version": 3
   },
   "file_extension": ".py",
   "mimetype": "text/x-python",
   "name": "python",
   "nbconvert_exporter": "python",
   "pygments_lexer": "ipython3",
   "version": "3.10.12"
  }
 },
 "nbformat": 4,
 "nbformat_minor": 5
}
