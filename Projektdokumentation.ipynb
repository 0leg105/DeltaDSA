{
 "cells": [
  {
   "cell_type": "markdown",
   "id": "4f9fcabf-4f95-4b95-b487-17e1971e54ec",
   "metadata": {},
   "source": [
    "# Vorgehen"
   ]
  },
  {
   "cell_type": "markdown",
   "id": "8b7bf785-6727-46a5-83dd-3aaadc1ca9c0",
   "metadata": {},
   "source": [
    "1. Visualisierung\n",
    "2. cholesterin\n",
    "3. multidimensionales problem"
   ]
  },
  {
   "cell_type": "markdown",
   "id": "fec034a7-c6c4-4856-b23e-a9c7ff8c3ce9",
   "metadata": {},
   "source": [
    "Ziel ist es eine PCA Anaylse zu erstellen die "
   ]
  },
  {
   "cell_type": "markdown",
   "id": "05587196-d0aa-45de-899e-578b9d563d8d",
   "metadata": {},
   "source": [
    "## Visualisierung der Daten\n",
    "Vor Beginn der Analyse habe ich die Daten visualisiert. Eine Visualisierung hilft bei der Überprüfung der Datenqualität, Erkennung von Ausreißern, Trends, Mustern, Abhängigkeiten zwischen Attributen. Sie ermöglicht ein besseres Verständnis der Daten und eine frühzeitige Erkennung von poteziellen Problemen."
   ]
  },
  {
   "cell_type": "markdown",
   "id": "5d717dfc-9865-4907-b615-e92e5db75b9b",
   "metadata": {},
   "source": [
    "## Verständnis für Jupyter Notebook\n",
    "Da ich Jupyter Notebook nur aus Vorlesungen kenne und selber nie damit gearbeitet habe, habe ich mich über die Benutzung informiert. Über **Dataquest** habe ich erfahren, wie ich Jupyter Notebook aufsetzte und Notebooks erstelle."
   ]
  },
  {
   "cell_type": "markdown",
   "id": "45978591-fbbb-4353-ad42-aa47ff61d493",
   "metadata": {},
   "source": [
    "## Erste Versuche mit pandas, numpy und matplotlib\n",
    "Ich habe mich für Python als Programmiersprache entschieden, da sie Bibliotheken zur Datenanalyse anbietet, wie unter anderem pandas, numpy und matplotlib, und von Jupyter Notebook unterstützt wird. Die Einarbeitung in die Bibliotheken pandas, numpy und matplotlib geschahen mithilfe von Stackoverflow und Chatgpt. Pandas ist eine Pythonbibliothek für die Datenanalyse entwickelt, mit der man Daten importieren, bereinigen, filtrieren und gruppieren kann. Numpy hilft mit Arrays zu arbeiten, bzw. zu rechnen. Matplotlib bietet imports an welche es ermöglichen Diagramme zur Visualisierung zu erstellen.\n",
    "Um mich in die Pyhton-Bibliotheken einzuarbeiten habe ich angefangen erste Visualisierungen zu erstellen, darunter auch eine Visualisierung der Cholesterinwerte."
   ]
  },
  {
   "cell_type": "markdown",
   "id": "94188b58-3bdf-4007-9f6f-7c324433bdf9",
   "metadata": {},
   "source": [
    "## Visualisierungen\n",
    "### Verteilung der Cholesterinwerte in Intervallen\n",
    "Die Verteilung im Balkendiagramm zeigte auch schon das erste Problem der Daten. Nämlich, dass es Beobachtungen gibt, welche keine Cholesterinwerte gegeben haben. Die Beobachtungen wurden in weiteren Vorgehen entfernt, was zur Datenqualität beitragen soll. Es deutet auch schon auf, Ausreißer an, die einen überdurchschnittlich hohen Cholesterinwert haben, welche man im Verlauf ebenfalls entfernen soll."
   ]
  },
  {
   "cell_type": "markdown",
   "id": "602df87e-fd41-43bc-ba08-b487dc6c6039",
   "metadata": {},
   "source": [
    "**Verteilung der Cholesterinwerte in Intervallen**"
   ]
  },
  {
   "cell_type": "markdown",
   "id": "6e2e4f90-b70f-459a-b6ff-1fc23a0f2a1b",
   "metadata": {},
   "source": [
    "### Verteilung der Geschlechter\n",
    "Das Balkendiagramm stellt die Verteilung der Geschlechter in gesund und Herzkreislauf erkrankt dar.\n",
    "#### Problem\n",
    "Bei der Statistik sehen wir eine um 3-Fach größere Abfrage von Männern, was eine aussagekräftigen Vergleich zwischen Männern und Frauen verzerren kann.\n",
    "Sollte ein Gewichtungsfaktor von 3 für Frauen  berechnet werden, kann es dazu führen, dass die Varianz in den Daten für Frauen überbetont wird, da sie nun dreimal so stark gewichtet sind wie Männer und ebenfalls Ergebnisse verzerrt.\n",
    "### Entschluss\n",
    "Durch die unzureichende Datenmenge der Frauen, werden Beobachtungen von Frauen entfernt. Somit gibt es gesamt "
   ]
  },
  {
   "cell_type": "code",
   "execution_count": null,
   "id": "c8c34537-6202-499e-8d94-386b2ff46bf4",
   "metadata": {},
   "outputs": [],
   "source": [
    "**Verteilung der Geschlechter**"
   ]
  },
  {
   "cell_type": "markdown",
   "id": "5066e0ef-f54f-4efa-9d1f-342fcc9fe63a",
   "metadata": {},
   "source": []
  }
 ],
 "metadata": {
  "kernelspec": {
   "display_name": "Python 3 (ipykernel)",
   "language": "python",
   "name": "python3"
  },
  "language_info": {
   "codemirror_mode": {
    "name": "ipython",
    "version": 3
   },
   "file_extension": ".py",
   "mimetype": "text/x-python",
   "name": "python",
   "nbconvert_exporter": "python",
   "pygments_lexer": "ipython3",
   "version": "3.10.12"
  }
 },
 "nbformat": 4,
 "nbformat_minor": 5
}
