{
 "cells": [
  {
   "cell_type": "code",
   "execution_count": null,
   "id": "146716d2-c69f-4530-92e0-0cc313bec83b",
   "metadata": {},
   "outputs": [],
   "source": [
    "import opendatasets as od \n",
    "import pandas \n",
    "\n",
    "od.download(\"https://www.kaggle.com/datasets/fedesoriano/heart-failure-prediction\")"
   ]
  },
  {
   "cell_type": "code",
   "execution_count": null,
   "id": "224a0f9d-6ec6-4074-98cb-4ab990711d8c",
   "metadata": {},
   "outputs": [],
   "source": [
    "import pandas as pd\n",
    "heart_data = pd.read_csv('heart-failure-prediction/heart.csv')"
   ]
  },
  {
   "cell_type": "code",
   "execution_count": null,
   "id": "aebfd4f7-4860-4b34-bc0c-14bba3242f58",
   "metadata": {},
   "outputs": [],
   "source": [
    "heart_data.head()"
   ]
  },
  {
   "cell_type": "code",
   "execution_count": null,
   "id": "30c0ebf6-16d9-41ec-a89f-f302c35c91bd",
   "metadata": {},
   "outputs": [],
   "source": [
    "import matplotlib.pyplot as plt\n",
    "import numpy as np\n",
    "\n",
    "# Nur Menschen mit Herzkrankeit auslesen\n",
    "unhealthy = heart_data[heart_data[\"HeartDisease\"] == 1]\n",
    "\n",
    "# Spalte \"Age\" auslesen\n",
    "age_column = unhealthy[\"Age\"]\n",
    "\n",
    "# Altersverteilung berechnen\n",
    "ages = age_column.drop_duplicates().sort_values()\n",
    "age_counts = age_column.value_counts().sort_index()\n",
    "\n",
    "#Balkendiagramm erzeugen\n",
    "plt.bar(ages, age_counts, color=\"skyblue\")\n",
    "plt.title(\"Altersverteilung bei Herzkrankheit\")\n",
    "plt.xlabel(\"Alter\")\n",
    "plt.ylabel(\"Anzahl\")\n",
    "plt.grid(axis=\"y\")\n",
    "plt.show()"
   ]
  },
  {
   "cell_type": "code",
   "execution_count": null,
   "id": "79a58215-c1e3-4729-9649-55e1d226c018",
   "metadata": {},
   "outputs": [],
   "source": []
  },
  {
   "cell_type": "code",
   "execution_count": null,
   "id": "7cdf1861-7d59-4a72-91ca-bebc21f6b81a",
   "metadata": {},
   "outputs": [],
   "source": []
  }
 ],
 "metadata": {
  "kernelspec": {
   "display_name": "Python 3 (ipykernel)",
   "language": "python",
   "name": "python3"
  },
  "language_info": {
   "codemirror_mode": {
    "name": "ipython",
    "version": 3
   },
   "file_extension": ".py",
   "mimetype": "text/x-python",
   "name": "python",
   "nbconvert_exporter": "python",
   "pygments_lexer": "ipython3",
   "version": "3.10.12"
  }
 },
 "nbformat": 4,
 "nbformat_minor": 5
}
